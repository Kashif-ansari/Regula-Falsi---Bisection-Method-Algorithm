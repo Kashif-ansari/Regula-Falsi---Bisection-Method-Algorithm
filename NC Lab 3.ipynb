{
 "cells": [
  {
   "cell_type": "code",
   "execution_count": 1,
   "metadata": {},
   "outputs": [
    {
     "name": "stdout",
     "output_type": "stream",
     "text": [
      "6.4\n"
     ]
    }
   ],
   "source": [
    "import math as m\n",
    "import sympy as s\n",
    "x = s.Symbol('x')\n",
    "def f(x):\n",
    "    return (x-4)**2*(x+2)\n",
    "eq = (1*f(0)-0*f(1))/(f(0)-f(1))\n",
    "print(eq)"
   ]
  },
  {
   "cell_type": "code",
   "execution_count": null,
   "metadata": {},
   "outputs": [],
   "source": []
  },
  {
   "cell_type": "code",
   "execution_count": 2,
   "metadata": {},
   "outputs": [
    {
     "name": "stdout",
     "output_type": "stream",
     "text": [
      "5.841379310344828\n"
     ]
    }
   ],
   "source": [
    "import math as m\n",
    "import sympy as s\n",
    "x = s.Symbol('x')\n",
    "def f(x):\n",
    "    return (x-4)**2*(x+2)\n",
    "eq = (1*f(0.5)-0.35*f(1))/(f(0.5)-f(1))\n",
    "print(eq)"
   ]
  },
  {
   "cell_type": "code",
   "execution_count": 3,
   "metadata": {},
   "outputs": [
    {
     "name": "stdout",
     "output_type": "stream",
     "text": [
      "0.5\n"
     ]
    }
   ],
   "source": [
    "import math as m\n",
    "import sympy as s\n",
    "x = s.Symbol('x')\n",
    "def f(x):\n",
    "    return x**3+x-1\n",
    "xu = 0\n",
    "xl = 1\n",
    "eq = (1*f(0)-0*f(1))/(f(0)-f(1))\n",
    "print(eq)"
   ]
  },
  {
   "cell_type": "code",
   "execution_count": 5,
   "metadata": {},
   "outputs": [
    {
     "name": "stdout",
     "output_type": "stream",
     "text": [
      "0 Change in xL  0.5\n",
      "1 Change in xL  0.6363636363636364\n",
      "2 Change in xL  0.6711956521739131\n",
      "3 Change in xL  0.6796616463987246\n",
      "4 Change in xL  0.6816910202728935\n",
      "5 Change in xL  0.68217581596254\n",
      "6 Change in xL  0.6822915330481633\n",
      "7 Change in xL  0.6823191484034907\n",
      "8 Change in xL  0.6823257383721648\n",
      "9 Change in xL  0.6823273109465156\n",
      "10 Change in xL  0.6823276862113437\n",
      "11 Change in xL  0.6823277757610691\n",
      "12 Change in xL  0.6823277971303835\n",
      "13 Change in xL  0.6823278022297579\n",
      "14 Change in xL  0.6823278034466251\n"
     ]
    }
   ],
   "source": [
    "def f(x):\n",
    "    return x**3+x-1\n",
    "def regulafalsi(xL,xU):\n",
    "    for i in range(15):\n",
    "        xroots = (xU*f(xL)-xL*f(xU))/(f(xL)-f(xU))\n",
    "        if f(xroots)<0:\n",
    "            xL=xroots\n",
    "            print(i,\"Change in xL \",xroots)\n",
    "        else:\n",
    "            xU = xroots\n",
    "            print(i,\"Change in xU \",xroots)\n",
    "regulafalsi(0,1)"
   ]
  },
  {
   "cell_type": "markdown",
   "metadata": {},
   "source": [
    "# RegulaFalsi"
   ]
  },
  {
   "cell_type": "code",
   "execution_count": 33,
   "metadata": {},
   "outputs": [
    {
     "name": "stdout",
     "output_type": "stream",
     "text": [
      "0 Change in xU  0.6850733573260451\n",
      "1 Change in xU  0.6503949801283647\n",
      "2 Change in xU  0.6435565520339048\n",
      "3 Change in xU  0.6421098575945017\n",
      "4 Change in xU  0.6417994835090949\n",
      "5 Change in xU  0.641732697569524\n",
      "6 Change in xU  0.6417183174755584\n",
      "7 Change in xU  0.6417152207833652\n",
      "8 Change in xU  0.6417145539041305\n",
      "9 Change in xU  0.6417144102893578\n",
      "10 Change in xU  0.6417143793613724\n",
      "11 Change in xU  0.6417143727009117\n",
      "12 Change in xU  0.6417143712665557\n",
      "13 Change in xU  0.6417143709576616\n",
      "14 Change in xU  0.6417143708911403\n"
     ]
    }
   ],
   "source": [
    "def f(x):\n",
    "    return m.sqrt(x)-m.cos(x)\n",
    "def regulafalsi(xL,xU):\n",
    "    for i in range(15):\n",
    "        xroots = (xU*f(xL)-xL*f(xU))/(f(xL)-f(xU))\n",
    "        if f(xroots)<0:\n",
    "            xL=xroots\n",
    "            print(i,\"Change in xL \",xroots)\n",
    "        else:\n",
    "            xU = xroots\n",
    "            print(i,\"Change in xU \",xroots)\n",
    "        root = abs((xU-xL)/xU)\n",
    "        if root <= 0.01:\n",
    "            break\n",
    "regulafalsi(0,1)"
   ]
  },
  {
   "cell_type": "code",
   "execution_count": 36,
   "metadata": {},
   "outputs": [
    {
     "name": "stdout",
     "output_type": "stream",
     "text": [
      "0 Change in xU  1.0\n",
      "1 Change in xU  1.0\n",
      "2 Change in xU  1.0\n",
      "3 Change in xU  1.0\n",
      "4 Change in xU  1.0\n",
      "5 Change in xU  1.0\n",
      "6 Change in xU  1.0\n",
      "7 Change in xU  1.0\n",
      "8 Change in xU  1.0\n",
      "9 Change in xU  1.0\n",
      "10 Change in xU  1.0\n",
      "11 Change in xU  1.0\n",
      "12 Change in xU  1.0\n",
      "13 Change in xU  1.0\n",
      "14 Change in xU  1.0\n"
     ]
    }
   ],
   "source": [
    "def f(x):\n",
    "    return 3*(x+1)*((x-1)/2)*(x-1)\n",
    "def regulafalsi(xL,xU):\n",
    "    for i in range(15):\n",
    "        xroots = (xU*f(xL)-xL*f(xU))/(f(xL)-f(xU))\n",
    "        if f(xroots)<0:\n",
    "            xL=xroots\n",
    "            print(i,\"Change in xL \",xroots)\n",
    "        else:\n",
    "            xU = xroots\n",
    "            print(i,\"Change in xU \",xroots)\n",
    "        root = abs((xU-xL)/xU)\n",
    "        if root <= 0.001:\n",
    "            break\n",
    "regulafalsi(0,1)"
   ]
  },
  {
   "cell_type": "code",
   "execution_count": 34,
   "metadata": {},
   "outputs": [
    {
     "name": "stdout",
     "output_type": "stream",
     "text": [
      "0 Change in xL  -0.2609403363371618\n",
      "1 Change in xL  -0.5893976798815194\n",
      "2 Change in xU  -0.822879279652573\n",
      "3 Change in xL  -0.7926989057821623\n",
      "4 Change in xL  -0.798055180655243\n",
      "5 Change in xL  -0.7981579678228901\n",
      "6 Change in xL  -0.7981599234815517\n",
      "7 Change in xL  -0.7981599606843591\n",
      "8 Change in xL  -0.798159961392072\n",
      "9 Change in xL  -0.7981599614055349\n",
      "10 Change in xL  -0.7981599614057909\n",
      "11 Change in xL  -0.7981599614057958\n",
      "12 Change in xU  -0.7981599614057959\n"
     ]
    }
   ],
   "source": [
    "def f(x):\n",
    "    return 2*x*m.cos(2*x)-(x+1)**2\n",
    "def regulafalsi(xL,xU):\n",
    "    for i in range(15):\n",
    "        xroots = (xU*f(xL)-xL*f(xU))/(f(xL)-f(xU))\n",
    "        if f(xroots)<0:\n",
    "            xL=xroots\n",
    "            print(i,\"Change in xL \",xroots)\n",
    "        else:\n",
    "            xU = xroots\n",
    "            print(i,\"Change in xU \",xroots)\n",
    "        root = abs((xU-xL)/xU)\n",
    "        if root <= 0.01:\n",
    "            break\n",
    "regulafalsi(0,1)"
   ]
  },
  {
   "cell_type": "code",
   "execution_count": 13,
   "metadata": {},
   "outputs": [
    {
     "name": "stdout",
     "output_type": "stream",
     "text": [
      "0 Change in xL  -0.7061414637186959\n",
      "1 Change in xU  -0.8228069537825778\n",
      "2 Change in xL  -0.7961474153933148\n",
      "3 Change in xL  -0.7981216632972253\n",
      "4 Change in xL  -0.7981592348620482\n",
      "5 Change in xL  -0.7981599476235319\n",
      "6 Change in xL  -0.7981599611443518\n",
      "7 Change in xL  -0.7981599614008363\n",
      "8 Change in xL  -0.7981599614057019\n",
      "9 Change in xL  -0.7981599614057943\n",
      "10 Change in xU  -0.7981599614057959\n"
     ]
    }
   ],
   "source": [
    "def f(x):\n",
    "    return 2*x*m.cos(2*x)-(x+1)**2\n",
    "def regulafalsi(xL,xU):\n",
    "    for i in range(150):\n",
    "        xroots = (xU*f(xL)-xL*f(xU))/(f(xL)-f(xU))\n",
    "        if f(xroots)<0:\n",
    "            xL=xroots\n",
    "            print(i,\"Change in xL \",xroots)\n",
    "        else:\n",
    "            xU = xroots\n",
    "            print(i,\"Change in xU \",xroots)\n",
    "        root = abs(xL-xU)\n",
    "        if root <= 0.0001:\n",
    "            break\n",
    "regulafalsi(-1,1)"
   ]
  },
  {
   "cell_type": "code",
   "execution_count": 8,
   "metadata": {},
   "outputs": [
    {
     "name": "stdout",
     "output_type": "stream",
     "text": [
      "0 Change in xU  -0.7061414637186959\n",
      "1 Change in xU  -0.7857552993696487\n",
      "2 Change in xU  -0.7966934150256152\n",
      "3 Change in xU  -0.7979898091127434\n"
     ]
    },
    {
     "data": {
      "text/plain": [
       "-0.7981402641607785"
      ]
     },
     "execution_count": 8,
     "metadata": {},
     "output_type": "execute_result"
    }
   ],
   "source": [
    "def f(x):\n",
    "    return 2 *x*m.cos(2*x) - (x +1)**2\n",
    "def regula_falsi(a,b, tol=0.0001):\n",
    "    fa= f(a)\n",
    "    fb= f(b)\n",
    "    for i in range(100):\n",
    "        c = (a*f(b) - b*f(a))/(f(b) - f(a))\n",
    "        \n",
    "        fc = f(c)\n",
    "        if abs(fc) < tol:\n",
    "            \n",
    "            return c \n",
    "        if fa*fc < 0:\n",
    "            b = c\n",
    "            fb = fc\n",
    "            print(i,\"Change in xU \",c)\n",
    "        else:\n",
    "            a = c\n",
    "            fa = fc\n",
    "            print(i,\"Change in xL \",c)\n",
    "    return \n",
    "regula_falsi(-1,1)"
   ]
  },
  {
   "cell_type": "code",
   "execution_count": null,
   "metadata": {},
   "outputs": [],
   "source": [
    "def f(x):\n",
    "    return 2 *x*m.cos(2*x) - (x +1)**2\n",
    "def regula_falsi(a, b, eps):\n",
    "    while abs(b-a) > eps:\n",
    "        c = (a*f(b) - b*f(a))/(f(b) - f(a))\n",
    "        if f(c) == 0:\n",
    "            return c\n",
    "        elif f(c)*f(a) < 0:\n",
    "            b = c\n",
    "        else:\n",
    "            a = c\n",
    "    return (a+b)/2\n",
    "\n",
    "a = -1\n",
    "b = 1\n",
    "eps = 0.001\n",
    "root = regula_falsi(a, b, eps)\n",
    "print(\"Root:\", root)\n",
    "print(\"f(Root):\", f(root))"
   ]
  },
  {
   "cell_type": "markdown",
   "metadata": {},
   "source": [
    "# Bisection"
   ]
  },
  {
   "cell_type": "code",
   "execution_count": 39,
   "metadata": {},
   "outputs": [
    {
     "name": "stdout",
     "output_type": "stream",
     "text": [
      "0 Change in x  0.5\n",
      "1 Change in y  0.75\n",
      "2 Change in x  0.625\n",
      "3 Change in y  0.6875\n",
      "4 Change in y  0.65625\n",
      "5 Change in x  0.640625\n",
      "6 Change in y  0.6484375\n",
      "7 Change in y  0.64453125\n",
      "8 Change in y  0.642578125\n",
      "9 Change in x  0.6416015625\n",
      "10 Change in y  0.64208984375\n",
      "11 Change in y  0.641845703125\n",
      "12 Change in y  0.6417236328125\n"
     ]
    }
   ],
   "source": [
    "x = s.Symbol('x')\n",
    "def f(x):\n",
    "    return m.sqrt(x)-m.cos(x)\n",
    "def bisection(x,y):\n",
    "    for i in range(15):\n",
    "        a = (x+y)/2\n",
    "        if (f(a)<0):\n",
    "            x = a\n",
    "            print(i,\"Change in x \",a)\n",
    "        else:\n",
    "            y = a\n",
    "            print(i,\"Change in y \",a)\n",
    "        tol  =abs((y-x)/2)\n",
    "        \n",
    "        if tol <= 0.0001:\n",
    "            break\n",
    "bisection(0,1)"
   ]
  },
  {
   "cell_type": "code",
   "execution_count": 51,
   "metadata": {},
   "outputs": [
    {
     "name": "stdout",
     "output_type": "stream",
     "text": [
      "0 Change in y  0.0\n",
      "1 Change in y  1.0\n",
      "2 Change in y  1.5\n",
      "3 Change in y  1.75\n",
      "4 Change in y  1.875\n",
      "5 Change in y  1.9375\n",
      "6 Change in y  1.96875\n",
      "7 Change in y  1.984375\n",
      "8 Change in y  1.9921875\n",
      "9 Change in y  1.99609375\n",
      "10 Change in y  1.998046875\n",
      "11 Change in y  1.9990234375\n",
      "12 Change in y  1.99951171875\n",
      "13 Change in y  1.999755859375\n",
      "14 Change in y  1.9998779296875\n"
     ]
    }
   ],
   "source": [
    "x = s.Symbol('x')\n",
    "def f(x):\n",
    "    return 3*(x+1)*((x-1)/2)*(x-1)\n",
    "def bisection(x,y):\n",
    "    for i in range(15):\n",
    "        a = (x+y)/2\n",
    "        if (f(a)<0):\n",
    "            x = a\n",
    "            print(i,\"Change in x \",a)\n",
    "        else:\n",
    "            y = a\n",
    "            print(i,\"Change in y \",a)\n",
    "        tol  =abs((y-x)/2)\n",
    "        \n",
    "        if tol <= 0.0001:\n",
    "            break\n",
    "bisection(2,-2)"
   ]
  },
  {
   "cell_type": "code",
   "execution_count": 45,
   "metadata": {},
   "outputs": [
    {
     "name": "stdout",
     "output_type": "stream",
     "text": [
      "0 Change in x  0.5\n",
      "1 Change in x  0.75\n",
      "2 Change in x  0.875\n",
      "3 Change in x  0.9375\n",
      "4 Change in x  0.96875\n",
      "5 Change in x  0.984375\n",
      "6 Change in x  0.9921875\n",
      "7 Change in x  0.99609375\n",
      "8 Change in x  0.998046875\n",
      "9 Change in x  0.9990234375\n",
      "10 Change in x  0.99951171875\n",
      "11 Change in x  0.999755859375\n",
      "12 Change in x  0.9998779296875\n"
     ]
    }
   ],
   "source": [
    "x = s.Symbol('x')\n",
    "def f(x):\n",
    "    return 2*x*m.cos(2*x)-(x+1)**2\n",
    "def bisection(x,y):\n",
    "    for i in range(15):\n",
    "        a = (x+y)/2\n",
    "        if (f(a)<0):\n",
    "            x = a\n",
    "            print(i,\"Change in x \",a)\n",
    "        else:\n",
    "            y = a\n",
    "            print(i,\"Change in y \",a)\n",
    "        tol  =abs((y-x)/2)\n",
    "        \n",
    "        if tol <= 0.0001:\n",
    "            break\n",
    "bisection(0,1)"
   ]
  },
  {
   "cell_type": "code",
   "execution_count": null,
   "metadata": {},
   "outputs": [],
   "source": []
  }
 ],
 "metadata": {
  "kernelspec": {
   "display_name": "Python 3",
   "language": "python",
   "name": "python3"
  },
  "language_info": {
   "codemirror_mode": {
    "name": "ipython",
    "version": 3
   },
   "file_extension": ".py",
   "mimetype": "text/x-python",
   "name": "python",
   "nbconvert_exporter": "python",
   "pygments_lexer": "ipython3",
   "version": "3.8.8"
  }
 },
 "nbformat": 4,
 "nbformat_minor": 2
}
